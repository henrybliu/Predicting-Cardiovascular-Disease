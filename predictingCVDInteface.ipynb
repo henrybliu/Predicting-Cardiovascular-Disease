{
 "cells": [
  {
   "cell_type": "markdown",
   "metadata": {},
   "source": [
    "# Predicting Cardiovascular Disease Interface"
   ]
  },
  {
   "cell_type": "markdown",
   "metadata": {},
   "source": [
    "\n",
    "This is the user interface designed to predict the probability of cardiovascular disease based on various characteristics provided by the user, including:\n",
    "- Age\n",
    "- Height\n",
    "- Weight\n",
    "- Gender\n",
    "- Systolic blood pressure\n",
    "- Diastolic blood pressure\n",
    "- Cholesterol levels\n",
    "- Glucose levels\n",
    "- Smoking status\n",
    "- Alcohol intake\n",
    "- Physical activity\n",
    "  \n",
    "The input for each characteristic is analyzed using an artificial neural network. The neural network is trained on a dataset available at https://www.kaggle.com/datasets/sulianova/cardiovascular-disease-dataset, achieving an accuracy of approximately 72%. It's important to note that this prediction is not a substitute for a comprehensive diagnosis by medical professionals, as it has limitations. For an accurate diagnosis of cardiovascular disease, please consult healthcare experts.\n"
   ]
  },
  {
   "cell_type": "markdown",
   "metadata": {},
   "source": [
    "1. import the dataset - done\n",
    "2. perform cleaning - done\n",
    "3. create ANN model\n",
    "4. prompt the user for input\n",
    "5. check validity of input\n",
    "6. show results of the user input"
   ]
  },
  {
   "cell_type": "markdown",
   "metadata": {},
   "source": []
  },
  {
   "cell_type": "code",
   "execution_count": 109,
   "metadata": {},
   "outputs": [],
   "source": [
    "import pandas as pd\n",
    "import ipywidgets as widgets\n",
    "\n",
    "from sklearn.preprocessing import OneHotEncoder\n",
    "from sklearn.preprocessing import StandardScaler\n",
    "from sklearn.model_selection import GridSearchCV\n",
    "from sklearn.pipeline import Pipeline\n",
    "from sklearn.compose import ColumnTransformer\n",
    "from sklearn.model_selection import train_test_split\n",
    "from sklearn.neural_network import MLPClassifier\n",
    "from sklearn import metrics\n",
    "#need to take this out\n",
    "from sklearn.metrics import precision_score, recall_score, f1_score, accuracy_score, ConfusionMatrixDisplay\n",
    "\n",
    "from IPython.core.display import HTML\n",
    "from IPython import display\n",
    "from IPython.display import Javascript, display\n",
    "from ipywidgets import HBox, Label, interact, IntText"
   ]
  },
  {
   "cell_type": "code",
   "execution_count": 110,
   "metadata": {},
   "outputs": [
    {
     "data": {
      "text/html": [
       "<div>\n",
       "<style scoped>\n",
       "    .dataframe tbody tr th:only-of-type {\n",
       "        vertical-align: middle;\n",
       "    }\n",
       "\n",
       "    .dataframe tbody tr th {\n",
       "        vertical-align: top;\n",
       "    }\n",
       "\n",
       "    .dataframe thead th {\n",
       "        text-align: right;\n",
       "    }\n",
       "</style>\n",
       "<table border=\"1\" class=\"dataframe\">\n",
       "  <thead>\n",
       "    <tr style=\"text-align: right;\">\n",
       "      <th></th>\n",
       "      <th>id</th>\n",
       "      <th>age</th>\n",
       "      <th>gender</th>\n",
       "      <th>height</th>\n",
       "      <th>weight</th>\n",
       "      <th>ap_hi</th>\n",
       "      <th>ap_lo</th>\n",
       "      <th>cholesterol</th>\n",
       "      <th>gluc</th>\n",
       "      <th>smoke</th>\n",
       "      <th>alco</th>\n",
       "      <th>active</th>\n",
       "      <th>cardio</th>\n",
       "    </tr>\n",
       "  </thead>\n",
       "  <tbody>\n",
       "    <tr>\n",
       "      <th>0</th>\n",
       "      <td>0</td>\n",
       "      <td>18393</td>\n",
       "      <td>2</td>\n",
       "      <td>168</td>\n",
       "      <td>62.0</td>\n",
       "      <td>110</td>\n",
       "      <td>80</td>\n",
       "      <td>1</td>\n",
       "      <td>1</td>\n",
       "      <td>0</td>\n",
       "      <td>0</td>\n",
       "      <td>1</td>\n",
       "      <td>0</td>\n",
       "    </tr>\n",
       "    <tr>\n",
       "      <th>1</th>\n",
       "      <td>1</td>\n",
       "      <td>20228</td>\n",
       "      <td>1</td>\n",
       "      <td>156</td>\n",
       "      <td>85.0</td>\n",
       "      <td>140</td>\n",
       "      <td>90</td>\n",
       "      <td>3</td>\n",
       "      <td>1</td>\n",
       "      <td>0</td>\n",
       "      <td>0</td>\n",
       "      <td>1</td>\n",
       "      <td>1</td>\n",
       "    </tr>\n",
       "    <tr>\n",
       "      <th>2</th>\n",
       "      <td>2</td>\n",
       "      <td>18857</td>\n",
       "      <td>1</td>\n",
       "      <td>165</td>\n",
       "      <td>64.0</td>\n",
       "      <td>130</td>\n",
       "      <td>70</td>\n",
       "      <td>3</td>\n",
       "      <td>1</td>\n",
       "      <td>0</td>\n",
       "      <td>0</td>\n",
       "      <td>0</td>\n",
       "      <td>1</td>\n",
       "    </tr>\n",
       "    <tr>\n",
       "      <th>3</th>\n",
       "      <td>3</td>\n",
       "      <td>17623</td>\n",
       "      <td>2</td>\n",
       "      <td>169</td>\n",
       "      <td>82.0</td>\n",
       "      <td>150</td>\n",
       "      <td>100</td>\n",
       "      <td>1</td>\n",
       "      <td>1</td>\n",
       "      <td>0</td>\n",
       "      <td>0</td>\n",
       "      <td>1</td>\n",
       "      <td>1</td>\n",
       "    </tr>\n",
       "    <tr>\n",
       "      <th>4</th>\n",
       "      <td>4</td>\n",
       "      <td>17474</td>\n",
       "      <td>1</td>\n",
       "      <td>156</td>\n",
       "      <td>56.0</td>\n",
       "      <td>100</td>\n",
       "      <td>60</td>\n",
       "      <td>1</td>\n",
       "      <td>1</td>\n",
       "      <td>0</td>\n",
       "      <td>0</td>\n",
       "      <td>0</td>\n",
       "      <td>0</td>\n",
       "    </tr>\n",
       "  </tbody>\n",
       "</table>\n",
       "</div>"
      ],
      "text/plain": [
       "   id    age  gender  height  weight  ap_hi  ap_lo  cholesterol  gluc  smoke  \\\n",
       "0   0  18393       2     168    62.0    110     80            1     1      0   \n",
       "1   1  20228       1     156    85.0    140     90            3     1      0   \n",
       "2   2  18857       1     165    64.0    130     70            3     1      0   \n",
       "3   3  17623       2     169    82.0    150    100            1     1      0   \n",
       "4   4  17474       1     156    56.0    100     60            1     1      0   \n",
       "\n",
       "   alco  active  cardio  \n",
       "0     0       1       0  \n",
       "1     0       1       1  \n",
       "2     0       0       1  \n",
       "3     0       1       1  \n",
       "4     0       0       0  "
      ]
     },
     "execution_count": 110,
     "metadata": {},
     "output_type": "execute_result"
    }
   ],
   "source": [
    "cardio = pd.read_csv('./cardio_train.csv', sep=';')\n",
    "cardio.head()\n",
    "\n",
    "# # Converting data from days to years\n",
    "# cardio['age'] = cardio['age'] / 365\n",
    "    \n",
    "# # Filtering out improbable data\n",
    "# cardio = cardio[(cardio['ap_hi'] > 0 & (cardio['ap_lo'] > 0))]\n",
    "# cardio = cardio[(cardio['age'] >= cardio['age'].quantile(0.05)) & (cardio['age'] <= cardio['age'].quantile(0.95)) &\n",
    "#                  (cardio['height'] >= cardio['height'].quantile(0.05)) & (cardio['height'] <= cardio['height'].quantile(0.95))]\n",
    "\n",
    "# # Calculate BMI (Body Mass Index)\n",
    "# cardio['bmi'] = cardio['weight'] / ((cardio['height'] / 100) ** 2)\n",
    "\n",
    "# # Filter out outliers in BMI\n",
    "# cardio_filtered = cardio[(cardio['bmi'] >= cardio['bmi'].quantile(0.05)) & (cardio['bmi'] <= cardio['bmi'].quantile(0.95))]\n",
    "# cardio['bmi'] = cardio_filtered['bmi']\n",
    "# cardio = cardio.dropna()\n",
    "# cols = list(cardio.columns)\n",
    "# cols.remove('bmi')\n",
    "# cols.insert(-1, 'bmi')\n",
    "# cardio = cardio[cols]\n",
    "\n",
    "# # Transforming columns\n",
    "# numeric_cols = ['age', 'height', 'weight', 'ap_hi', 'ap_lo', 'bmi']\n",
    "# cat_cols = ['gender', 'cholesterol', 'gluc', 'smoke', 'alco', 'active']\n",
    "# preproc = ColumnTransformer(\n",
    "#     transformers = [\n",
    "#         ('standard_scaler', StandardScaler(), numeric_cols),\n",
    "#         ('categorical_cols', OneHotEncoder(handle_unknown='ignore'), cat_cols)\n",
    "#     ]\n",
    "# )\n",
    "\n",
    "# # Getting feature and response columns\n",
    "# dataset = cardio[numeric_cols + cat_cols]\n",
    "# result = cardio['cardio']\n",
    "\n",
    "# # Splitting the data into training and testing sets\n",
    "# X_train, X_test, y_train, y_test = train_test_split(dataset,\n",
    "#                                                    result,\n",
    "#                                                    test_size=0.2,\n",
    "#                                                    random_state=1)\n",
    "\n",
    "# # Artificial Neural Network\n",
    "# pl_nn = Pipeline([\n",
    "#     ('preprocessor', preproc),\n",
    "#     ('nn', MLPClassifier()),\n",
    "# ])\n",
    "# pl_nn.fit(X_train, y_train)\n",
    "\n",
    "# # Getting the accuracy of the training and testing set\n",
    "# # training_prediction_nn = pl_nn.predict(X_train)\n",
    "# # testing_prediction_nn = pl_nn.predict(X_test)\n",
    "# # training_accuracy_nn = metrics.accuracy_score(training_prediction_nn, y_train)\n",
    "# # testing_accuracy_nn = metrics.accuracy_score(testing_prediction_nn, y_test)\n",
    "# # print(f'Training accuracy: {training_accuracy_nn}')\n",
    "# # print(f'Testing accuracy: {testing_accuracy_nn}')"
   ]
  },
  {
   "cell_type": "code",
   "execution_count": 116,
   "metadata": {},
   "outputs": [
    {
     "name": "stdout",
     "output_type": "stream",
     "text": [
      "Please fill out the following form to assess your likelihood of developing Cardiovascular Disease. It is important to note that the results of this prediction are not entirely accurate, and it is highly recommended to consult with medical professionals for a more comprehensive evaluation.\n",
      "\n",
      "Birthday\n"
     ]
    },
    {
     "data": {
      "application/vnd.jupyter.widget-view+json": {
       "model_id": "d47a653189724b888a8fbd3b3656df9e",
       "version_major": 2,
       "version_minor": 0
      },
      "text/plain": [
       "DatePicker(value=None, step=1)"
      ]
     },
     "metadata": {},
     "output_type": "display_data"
    },
    {
     "name": "stdout",
     "output_type": "stream",
     "text": [
      "Height in Centimeters\n"
     ]
    },
    {
     "data": {
      "application/vnd.jupyter.widget-view+json": {
       "model_id": "c4b3b92bc703478b9591c3e1c13a4bb3",
       "version_major": 2,
       "version_minor": 0
      },
      "text/plain": [
       "IntSlider(value=136, max=272)"
      ]
     },
     "metadata": {},
     "output_type": "display_data"
    },
    {
     "name": "stdout",
     "output_type": "stream",
     "text": [
      "Weight in Kilograms\n"
     ]
    },
    {
     "data": {
      "application/vnd.jupyter.widget-view+json": {
       "model_id": "cfe4468750a74a13b6bdaf73ffebfd5c",
       "version_major": 2,
       "version_minor": 0
      },
      "text/plain": [
       "FloatSlider(value=60.0, max=635.0, min=2.0, readout_format='.1f')"
      ]
     },
     "metadata": {},
     "output_type": "display_data"
    },
    {
     "name": "stdout",
     "output_type": "stream",
     "text": [
      "Gender\n"
     ]
    },
    {
     "data": {
      "application/vnd.jupyter.widget-view+json": {
       "model_id": "39b2af9aab134899a6728a21d766575e",
       "version_major": 2,
       "version_minor": 0
      },
      "text/plain": [
       "Dropdown(options=(('Select', 1), ('Man', 2), ('Woman', 3)), value=1)"
      ]
     },
     "metadata": {},
     "output_type": "display_data"
    },
    {
     "name": "stdout",
     "output_type": "stream",
     "text": [
      "Blood Pressure\n"
     ]
    },
    {
     "data": {
      "application/vnd.jupyter.widget-view+json": {
       "model_id": "f9d85d16c139448db9a8898d90033556",
       "version_major": 2,
       "version_minor": 0
      },
      "text/plain": [
       "interactive(children=(IntText(value=0, description='Systolic'), IntText(value=0, description='Diastolic'), Out…"
      ]
     },
     "metadata": {},
     "output_type": "display_data"
    },
    {
     "name": "stdout",
     "output_type": "stream",
     "text": [
      "Cholesterol\n"
     ]
    },
    {
     "data": {
      "application/vnd.jupyter.widget-view+json": {
       "model_id": "035ed95987ff48e48d04bae7b014020c",
       "version_major": 2,
       "version_minor": 0
      },
      "text/plain": [
       "Dropdown(options=(('Select', 1), ('Normal', 2), ('Above Normal', 3), ('Well Above Normal', 4)), value=1)"
      ]
     },
     "metadata": {},
     "output_type": "display_data"
    },
    {
     "name": "stdout",
     "output_type": "stream",
     "text": [
      "Glucose Level\n"
     ]
    },
    {
     "data": {
      "application/vnd.jupyter.widget-view+json": {
       "model_id": "0bf2a003ed4a41dfbb5264336424191a",
       "version_major": 2,
       "version_minor": 0
      },
      "text/plain": [
       "Dropdown(options=(('Select', 1), ('Normal', 2), ('Above Normal', 3), ('Well Above Normal', 4)), value=1)"
      ]
     },
     "metadata": {},
     "output_type": "display_data"
    },
    {
     "name": "stdout",
     "output_type": "stream",
     "text": [
      "Smoking\n"
     ]
    },
    {
     "data": {
      "application/vnd.jupyter.widget-view+json": {
       "model_id": "91d9ea7ae0a540d3aabd3d95063613b4",
       "version_major": 2,
       "version_minor": 0
      },
      "text/plain": [
       "Dropdown(options=(('Select', 1), ('I have smoked', 2), ('I have never smoked', 3)), value=1)"
      ]
     },
     "metadata": {},
     "output_type": "display_data"
    },
    {
     "name": "stdout",
     "output_type": "stream",
     "text": [
      "Alochol Intake\n"
     ]
    },
    {
     "data": {
      "application/vnd.jupyter.widget-view+json": {
       "model_id": "7ef1a931d9274952864d729970376836",
       "version_major": 2,
       "version_minor": 0
      },
      "text/plain": [
       "Dropdown(options=(('Select', 1), ('I consume alcohol', 2), ('I do not consume alcohol', 3)), value=1)"
      ]
     },
     "metadata": {},
     "output_type": "display_data"
    },
    {
     "name": "stdout",
     "output_type": "stream",
     "text": [
      "Physical Activity\n"
     ]
    },
    {
     "data": {
      "application/vnd.jupyter.widget-view+json": {
       "model_id": "3830da7a66634b97b3d73d898965e1cf",
       "version_major": 2,
       "version_minor": 0
      },
      "text/plain": [
       "Dropdown(options=(('Select', 1), ('I engage in regular physical activity', 2), ('I do not engage in regular ph…"
      ]
     },
     "metadata": {},
     "output_type": "display_data"
    }
   ],
   "source": [
    "print(\"Please fill out the following form to assess your likelihood of developing Cardiovascular Disease. It is important to note that the results of this prediction are not entirely accurate, and it is highly recommended to consult with medical professionals for a more comprehensive evaluation.\")\n",
    "print(\"\")\n",
    "\n",
    "print(\"Birthday\")\n",
    "birth_date = widgets.DatePicker()\n",
    "display(birth_date)\n",
    "\n",
    "print('Height in Centimeters')\n",
    "feet = widgets.IntSlider(value = 136, min = 0, max = 272)\n",
    "display(feet)\n",
    "\n",
    "print('Weight in Kilograms')\n",
    "weight = widgets.FloatSlider(\n",
    "    value=60,\n",
    "    min=2,\n",
    "    max=635,\n",
    "    step=0.1,\n",
    "    disabled=False,\n",
    "    readout=True,\n",
    "    readout_format='.1f',\n",
    ")\n",
    "display(weight)\n",
    "\n",
    "print('Gender')\n",
    "gender = widgets.Dropdown(\n",
    "    options=[('Select', 1), ('Man', 2), ('Woman', 3)],\n",
    "    value=1,\n",
    ")\n",
    "display(gender)\n",
    "\n",
    "print('Blood Pressure')\n",
    "def display_blood_pressure(Systolic, Diastolic):\n",
    "    print(f\"Systolic: {Systolic} / Diastolic: {Diastolic}\")\n",
    "systolic = IntText(value=0, description='Systolic')\n",
    "diastolic = IntText(value=0, description='Diastolic')\n",
    "interact(display_blood_pressure, Systolic=systolic, Diastolic=diastolic)\n",
    "\n",
    "print('Cholesterol')\n",
    "cholesterol = widgets.Dropdown(\n",
    "    options=[('Select', 1), ('Normal', 2), ('Above Normal', 3), ('Well Above Normal',4)],\n",
    "    value=1,\n",
    ")\n",
    "display(cholesterol)\n",
    "\n",
    "print('Glucose Level')\n",
    "glucose = widgets.Dropdown(\n",
    "    options=[('Select', 1), ('Normal', 2), ('Above Normal', 3), ('Well Above Normal',4)],\n",
    "    value=1,\n",
    ")\n",
    "display(glucose)\n",
    "\n",
    "print('Smoking')\n",
    "smoking = widgets.Dropdown(\n",
    "    options=[('Select', 1), ('I have smoked', 2), ('I have never smoked', 3)],\n",
    "    value=1,\n",
    ")\n",
    "display(smoking)\n",
    "\n",
    "print('Alochol Intake')\n",
    "alcohol = widgets.Dropdown(\n",
    "    options=[('Select', 1), ('I consume alcohol', 2), ('I do not consume alcohol', 3)],\n",
    "    value=1,\n",
    ")\n",
    "display(alcohol)\n",
    "\n",
    "print('Physical Activity')\n",
    "physical = widgets.Dropdown(\n",
    "    options=[('Select', 1), ('I engage in regular physical activity', 2), ('I do not engage in regular physical activity', 3)],\n",
    "    value=1,\n",
    ")\n",
    "display(physical)\n"
   ]
  },
  {
   "cell_type": "code",
   "execution_count": null,
   "metadata": {},
   "outputs": [],
   "source": []
  },
  {
   "cell_type": "code",
   "execution_count": null,
   "metadata": {},
   "outputs": [],
   "source": []
  }
 ],
 "metadata": {
  "kernelspec": {
   "display_name": "Python 3.10.11 ('base')",
   "language": "python",
   "name": "python3"
  },
  "language_info": {
   "codemirror_mode": {
    "name": "ipython",
    "version": 3
   },
   "file_extension": ".py",
   "mimetype": "text/x-python",
   "name": "python",
   "nbconvert_exporter": "python",
   "pygments_lexer": "ipython3",
   "version": "3.10.11"
  },
  "orig_nbformat": 4,
  "vscode": {
   "interpreter": {
    "hash": "e4d657b0668fe9fec275e73d4344937bbeef50d4e93d7bdb850af1accd3b6773"
   }
  }
 },
 "nbformat": 4,
 "nbformat_minor": 2
}
