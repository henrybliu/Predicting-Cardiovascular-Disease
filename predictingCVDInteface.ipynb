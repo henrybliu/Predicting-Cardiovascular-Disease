{
 "cells": [
  {
   "cell_type": "markdown",
   "metadata": {},
   "source": [
    "# Predicting Cardiovascular Disease Interface"
   ]
  },
  {
   "cell_type": "markdown",
   "metadata": {},
   "source": [
    "\n",
    "This is the user interface designed to predict the probability of cardiovascular disease based on various characteristics provided by the user, including:\n",
    "- Age\n",
    "- Height\n",
    "- Weight\n",
    "- Gender\n",
    "- Systolic blood pressure\n",
    "- Diastolic blood pressure\n",
    "- Cholesterol levels\n",
    "- Glucose levels\n",
    "- Smoking status\n",
    "- Alcohol intake\n",
    "- Physical activity\n",
    "  \n",
    "The input for each characteristic is analyzed using an artificial neural network. The neural network is trained on a dataset available at https://www.kaggle.com/datasets/sulianova/cardiovascular-disease-dataset, achieving an accuracy of approximately 72%. It's important to note that this prediction is not a substitute for a comprehensive diagnosis by medical professionals, as it has limitations. For an accurate diagnosis of cardiovascular disease, please consult healthcare experts.\n"
   ]
  },
  {
   "cell_type": "code",
   "execution_count": 4,
   "metadata": {},
   "outputs": [],
   "source": [
    "import pandas as pd\n",
    "import ipywidgets as widgets\n",
    "\n",
    "from sklearn.preprocessing import OneHotEncoder\n",
    "from sklearn.preprocessing import StandardScaler\n",
    "from sklearn.pipeline import Pipeline\n",
    "from sklearn.compose import ColumnTransformer\n",
    "from sklearn.model_selection import train_test_split\n",
    "from sklearn.neural_network import MLPClassifier\n",
    "import ipywidgets as widgets\n",
    "from ipywidgets import interact\n",
    "from datetime import datetime\n",
    "from IPython.display import clear_output"
   ]
  },
  {
   "cell_type": "code",
   "execution_count": 5,
   "metadata": {},
   "outputs": [
    {
     "name": "stdout",
     "output_type": "stream",
     "text": [
      "             age  height  weight  ap_hi  ap_lo        bmi  gender  \\\n",
      "65105  49.156164     169    71.0    130     80  24.859074       2   \n",
      "11706  50.306849     166    63.0    120     60  22.862534       1   \n",
      "68605  54.323288     165    60.0    120    100  22.038567       1   \n",
      "16692  47.564384     165    75.0    120     80  27.548209       2   \n",
      "46091  50.320548     168    78.0    150    100  27.636054       1   \n",
      "\n",
      "       cholesterol  gluc  smoke  alco  active  \n",
      "65105            2     1      0     0       1  \n",
      "11706            1     1      0     0       0  \n",
      "68605            1     1      0     0       0  \n",
      "16692            1     1      0     0       1  \n",
      "46091            1     1      0     0       1  \n"
     ]
    },
    {
     "data": {
      "text/html": [
       "<style>#sk-container-id-2 {color: black;background-color: white;}#sk-container-id-2 pre{padding: 0;}#sk-container-id-2 div.sk-toggleable {background-color: white;}#sk-container-id-2 label.sk-toggleable__label {cursor: pointer;display: block;width: 100%;margin-bottom: 0;padding: 0.3em;box-sizing: border-box;text-align: center;}#sk-container-id-2 label.sk-toggleable__label-arrow:before {content: \"▸\";float: left;margin-right: 0.25em;color: #696969;}#sk-container-id-2 label.sk-toggleable__label-arrow:hover:before {color: black;}#sk-container-id-2 div.sk-estimator:hover label.sk-toggleable__label-arrow:before {color: black;}#sk-container-id-2 div.sk-toggleable__content {max-height: 0;max-width: 0;overflow: hidden;text-align: left;background-color: #f0f8ff;}#sk-container-id-2 div.sk-toggleable__content pre {margin: 0.2em;color: black;border-radius: 0.25em;background-color: #f0f8ff;}#sk-container-id-2 input.sk-toggleable__control:checked~div.sk-toggleable__content {max-height: 200px;max-width: 100%;overflow: auto;}#sk-container-id-2 input.sk-toggleable__control:checked~label.sk-toggleable__label-arrow:before {content: \"▾\";}#sk-container-id-2 div.sk-estimator input.sk-toggleable__control:checked~label.sk-toggleable__label {background-color: #d4ebff;}#sk-container-id-2 div.sk-label input.sk-toggleable__control:checked~label.sk-toggleable__label {background-color: #d4ebff;}#sk-container-id-2 input.sk-hidden--visually {border: 0;clip: rect(1px 1px 1px 1px);clip: rect(1px, 1px, 1px, 1px);height: 1px;margin: -1px;overflow: hidden;padding: 0;position: absolute;width: 1px;}#sk-container-id-2 div.sk-estimator {font-family: monospace;background-color: #f0f8ff;border: 1px dotted black;border-radius: 0.25em;box-sizing: border-box;margin-bottom: 0.5em;}#sk-container-id-2 div.sk-estimator:hover {background-color: #d4ebff;}#sk-container-id-2 div.sk-parallel-item::after {content: \"\";width: 100%;border-bottom: 1px solid gray;flex-grow: 1;}#sk-container-id-2 div.sk-label:hover label.sk-toggleable__label {background-color: #d4ebff;}#sk-container-id-2 div.sk-serial::before {content: \"\";position: absolute;border-left: 1px solid gray;box-sizing: border-box;top: 0;bottom: 0;left: 50%;z-index: 0;}#sk-container-id-2 div.sk-serial {display: flex;flex-direction: column;align-items: center;background-color: white;padding-right: 0.2em;padding-left: 0.2em;position: relative;}#sk-container-id-2 div.sk-item {position: relative;z-index: 1;}#sk-container-id-2 div.sk-parallel {display: flex;align-items: stretch;justify-content: center;background-color: white;position: relative;}#sk-container-id-2 div.sk-item::before, #sk-container-id-2 div.sk-parallel-item::before {content: \"\";position: absolute;border-left: 1px solid gray;box-sizing: border-box;top: 0;bottom: 0;left: 50%;z-index: -1;}#sk-container-id-2 div.sk-parallel-item {display: flex;flex-direction: column;z-index: 1;position: relative;background-color: white;}#sk-container-id-2 div.sk-parallel-item:first-child::after {align-self: flex-end;width: 50%;}#sk-container-id-2 div.sk-parallel-item:last-child::after {align-self: flex-start;width: 50%;}#sk-container-id-2 div.sk-parallel-item:only-child::after {width: 0;}#sk-container-id-2 div.sk-dashed-wrapped {border: 1px dashed gray;margin: 0 0.4em 0.5em 0.4em;box-sizing: border-box;padding-bottom: 0.4em;background-color: white;}#sk-container-id-2 div.sk-label label {font-family: monospace;font-weight: bold;display: inline-block;line-height: 1.2em;}#sk-container-id-2 div.sk-label-container {text-align: center;}#sk-container-id-2 div.sk-container {/* jupyter's `normalize.less` sets `[hidden] { display: none; }` but bootstrap.min.css set `[hidden] { display: none !important; }` so we also need the `!important` here to be able to override the default hidden behavior on the sphinx rendered scikit-learn.org. See: https://github.com/scikit-learn/scikit-learn/issues/21755 */display: inline-block !important;position: relative;}#sk-container-id-2 div.sk-text-repr-fallback {display: none;}</style><div id=\"sk-container-id-2\" class=\"sk-top-container\"><div class=\"sk-text-repr-fallback\"><pre>Pipeline(steps=[(&#x27;preprocessor&#x27;,\n",
       "                 ColumnTransformer(transformers=[(&#x27;standard_scaler&#x27;,\n",
       "                                                  StandardScaler(),\n",
       "                                                  [&#x27;age&#x27;, &#x27;height&#x27;, &#x27;weight&#x27;,\n",
       "                                                   &#x27;ap_hi&#x27;, &#x27;ap_lo&#x27;, &#x27;bmi&#x27;]),\n",
       "                                                 (&#x27;categorical_cols&#x27;,\n",
       "                                                  OneHotEncoder(handle_unknown=&#x27;ignore&#x27;),\n",
       "                                                  [&#x27;gender&#x27;, &#x27;cholesterol&#x27;,\n",
       "                                                   &#x27;gluc&#x27;, &#x27;smoke&#x27;, &#x27;alco&#x27;,\n",
       "                                                   &#x27;active&#x27;])])),\n",
       "                (&#x27;nn&#x27;, MLPClassifier())])</pre><b>In a Jupyter environment, please rerun this cell to show the HTML representation or trust the notebook. <br />On GitHub, the HTML representation is unable to render, please try loading this page with nbviewer.org.</b></div><div class=\"sk-container\" hidden><div class=\"sk-item sk-dashed-wrapped\"><div class=\"sk-label-container\"><div class=\"sk-label sk-toggleable\"><input class=\"sk-toggleable__control sk-hidden--visually\" id=\"sk-estimator-id-8\" type=\"checkbox\" ><label for=\"sk-estimator-id-8\" class=\"sk-toggleable__label sk-toggleable__label-arrow\">Pipeline</label><div class=\"sk-toggleable__content\"><pre>Pipeline(steps=[(&#x27;preprocessor&#x27;,\n",
       "                 ColumnTransformer(transformers=[(&#x27;standard_scaler&#x27;,\n",
       "                                                  StandardScaler(),\n",
       "                                                  [&#x27;age&#x27;, &#x27;height&#x27;, &#x27;weight&#x27;,\n",
       "                                                   &#x27;ap_hi&#x27;, &#x27;ap_lo&#x27;, &#x27;bmi&#x27;]),\n",
       "                                                 (&#x27;categorical_cols&#x27;,\n",
       "                                                  OneHotEncoder(handle_unknown=&#x27;ignore&#x27;),\n",
       "                                                  [&#x27;gender&#x27;, &#x27;cholesterol&#x27;,\n",
       "                                                   &#x27;gluc&#x27;, &#x27;smoke&#x27;, &#x27;alco&#x27;,\n",
       "                                                   &#x27;active&#x27;])])),\n",
       "                (&#x27;nn&#x27;, MLPClassifier())])</pre></div></div></div><div class=\"sk-serial\"><div class=\"sk-item sk-dashed-wrapped\"><div class=\"sk-label-container\"><div class=\"sk-label sk-toggleable\"><input class=\"sk-toggleable__control sk-hidden--visually\" id=\"sk-estimator-id-9\" type=\"checkbox\" ><label for=\"sk-estimator-id-9\" class=\"sk-toggleable__label sk-toggleable__label-arrow\">preprocessor: ColumnTransformer</label><div class=\"sk-toggleable__content\"><pre>ColumnTransformer(transformers=[(&#x27;standard_scaler&#x27;, StandardScaler(),\n",
       "                                 [&#x27;age&#x27;, &#x27;height&#x27;, &#x27;weight&#x27;, &#x27;ap_hi&#x27;, &#x27;ap_lo&#x27;,\n",
       "                                  &#x27;bmi&#x27;]),\n",
       "                                (&#x27;categorical_cols&#x27;,\n",
       "                                 OneHotEncoder(handle_unknown=&#x27;ignore&#x27;),\n",
       "                                 [&#x27;gender&#x27;, &#x27;cholesterol&#x27;, &#x27;gluc&#x27;, &#x27;smoke&#x27;,\n",
       "                                  &#x27;alco&#x27;, &#x27;active&#x27;])])</pre></div></div></div><div class=\"sk-parallel\"><div class=\"sk-parallel-item\"><div class=\"sk-item\"><div class=\"sk-label-container\"><div class=\"sk-label sk-toggleable\"><input class=\"sk-toggleable__control sk-hidden--visually\" id=\"sk-estimator-id-10\" type=\"checkbox\" ><label for=\"sk-estimator-id-10\" class=\"sk-toggleable__label sk-toggleable__label-arrow\">standard_scaler</label><div class=\"sk-toggleable__content\"><pre>[&#x27;age&#x27;, &#x27;height&#x27;, &#x27;weight&#x27;, &#x27;ap_hi&#x27;, &#x27;ap_lo&#x27;, &#x27;bmi&#x27;]</pre></div></div></div><div class=\"sk-serial\"><div class=\"sk-item\"><div class=\"sk-estimator sk-toggleable\"><input class=\"sk-toggleable__control sk-hidden--visually\" id=\"sk-estimator-id-11\" type=\"checkbox\" ><label for=\"sk-estimator-id-11\" class=\"sk-toggleable__label sk-toggleable__label-arrow\">StandardScaler</label><div class=\"sk-toggleable__content\"><pre>StandardScaler()</pre></div></div></div></div></div></div><div class=\"sk-parallel-item\"><div class=\"sk-item\"><div class=\"sk-label-container\"><div class=\"sk-label sk-toggleable\"><input class=\"sk-toggleable__control sk-hidden--visually\" id=\"sk-estimator-id-12\" type=\"checkbox\" ><label for=\"sk-estimator-id-12\" class=\"sk-toggleable__label sk-toggleable__label-arrow\">categorical_cols</label><div class=\"sk-toggleable__content\"><pre>[&#x27;gender&#x27;, &#x27;cholesterol&#x27;, &#x27;gluc&#x27;, &#x27;smoke&#x27;, &#x27;alco&#x27;, &#x27;active&#x27;]</pre></div></div></div><div class=\"sk-serial\"><div class=\"sk-item\"><div class=\"sk-estimator sk-toggleable\"><input class=\"sk-toggleable__control sk-hidden--visually\" id=\"sk-estimator-id-13\" type=\"checkbox\" ><label for=\"sk-estimator-id-13\" class=\"sk-toggleable__label sk-toggleable__label-arrow\">OneHotEncoder</label><div class=\"sk-toggleable__content\"><pre>OneHotEncoder(handle_unknown=&#x27;ignore&#x27;)</pre></div></div></div></div></div></div></div></div><div class=\"sk-item\"><div class=\"sk-estimator sk-toggleable\"><input class=\"sk-toggleable__control sk-hidden--visually\" id=\"sk-estimator-id-14\" type=\"checkbox\" ><label for=\"sk-estimator-id-14\" class=\"sk-toggleable__label sk-toggleable__label-arrow\">MLPClassifier</label><div class=\"sk-toggleable__content\"><pre>MLPClassifier()</pre></div></div></div></div></div></div></div>"
      ],
      "text/plain": [
       "Pipeline(steps=[('preprocessor',\n",
       "                 ColumnTransformer(transformers=[('standard_scaler',\n",
       "                                                  StandardScaler(),\n",
       "                                                  ['age', 'height', 'weight',\n",
       "                                                   'ap_hi', 'ap_lo', 'bmi']),\n",
       "                                                 ('categorical_cols',\n",
       "                                                  OneHotEncoder(handle_unknown='ignore'),\n",
       "                                                  ['gender', 'cholesterol',\n",
       "                                                   'gluc', 'smoke', 'alco',\n",
       "                                                   'active'])])),\n",
       "                ('nn', MLPClassifier())])"
      ]
     },
     "execution_count": 5,
     "metadata": {},
     "output_type": "execute_result"
    }
   ],
   "source": [
    "cardio = pd.read_csv('./cardio_train.csv', sep=';')\n",
    "cardio.head()\n",
    "\n",
    "# Converting data from days to years\n",
    "cardio['age'] = cardio['age'] / 365\n",
    "    \n",
    "# Filtering out improbable data\n",
    "cardio = cardio[((cardio['ap_hi'] > 0) & (cardio['ap_lo'] > 0))]\n",
    "cardio = cardio[(cardio['age'] >= cardio['age'].quantile(0.05)) & (cardio['age'] <= cardio['age'].quantile(0.95)) &\n",
    "                 (cardio['height'] >= cardio['height'].quantile(0.05)) & (cardio['height'] <= cardio['height'].quantile(0.95))]\n",
    "\n",
    "# Calculate BMI (Body Mass Index)\n",
    "cardio['bmi'] = cardio['weight'] / ((cardio['height'] / 100) ** 2)\n",
    "\n",
    "# Filter outliers in BMI\n",
    "cardio_filtered = cardio[(cardio['bmi'] >= cardio['bmi'].quantile(0.05)) & (cardio['bmi'] <= cardio['bmi'].quantile(0.95))]\n",
    "cardio['bmi'] = cardio_filtered['bmi']\n",
    "cardio = cardio.dropna()\n",
    "cols = list(cardio.columns)\n",
    "cols.remove('bmi')\n",
    "cols.insert(-1, 'bmi')\n",
    "cardio = cardio[cols]\n",
    "\n",
    "# Transforming columns\n",
    "numeric_cols = ['age', 'height', 'weight', 'ap_hi', 'ap_lo', 'bmi']\n",
    "cat_cols = ['gender', 'cholesterol', 'gluc', 'smoke', 'alco', 'active']\n",
    "preproc = ColumnTransformer(\n",
    "    transformers = [\n",
    "        ('standard_scaler', StandardScaler(), numeric_cols),\n",
    "        ('categorical_cols', OneHotEncoder(handle_unknown='ignore'), cat_cols)\n",
    "    ]\n",
    ")\n",
    "\n",
    "# Getting feature and response columns\n",
    "dataset = cardio[numeric_cols + cat_cols]\n",
    "result = cardio['cardio']\n",
    "\n",
    "# Splitting the data into training and testing sets\n",
    "X_train, X_test, y_train, y_test = train_test_split(dataset,\n",
    "                                                   result,\n",
    "                                                   test_size=0.2,\n",
    "                                                   random_state=1)\n",
    "\n",
    "# Artificial Neural Network\n",
    "pl_nn = Pipeline([\n",
    "    ('preprocessor', preproc),\n",
    "    ('nn', MLPClassifier()),\n",
    "])\n",
    "\n",
    "print(X_train.head())\n",
    "pl_nn.fit(X_train, y_train)"
   ]
  },
  {
   "cell_type": "code",
   "execution_count": 7,
   "metadata": {},
   "outputs": [
    {
     "data": {
      "application/vnd.jupyter.widget-view+json": {
       "model_id": "1db59f64099f4750bc80f544c677b11a",
       "version_major": 2,
       "version_minor": 0
      },
      "text/plain": [
       "interactive(children=(Output(),), _dom_classes=('widget-interact',))"
      ]
     },
     "metadata": {},
     "output_type": "display_data"
    },
    {
     "data": {
      "application/vnd.jupyter.widget-view+json": {
       "model_id": "98825aa89b1542ba925c349d0df98964",
       "version_major": 2,
       "version_minor": 0
      },
      "text/plain": [
       "interactive(children=(DatePicker(value=None, description='Birthday', step=1, style=DescriptionStyle(descriptio…"
      ]
     },
     "metadata": {},
     "output_type": "display_data"
    },
    {
     "data": {
      "application/vnd.jupyter.widget-view+json": {
       "model_id": "23b52512a6414a06be548edba1c247f5",
       "version_major": 2,
       "version_minor": 0
      },
      "text/plain": [
       "Button(description='Submit', style=ButtonStyle())"
      ]
     },
     "metadata": {},
     "output_type": "display_data"
    },
    {
     "data": {
      "application/vnd.jupyter.widget-view+json": {
       "model_id": "14fcf4db369a4e098ddd35a7d21b654d",
       "version_major": 2,
       "version_minor": 0
      },
      "text/plain": [
       "Output()"
      ]
     },
     "metadata": {},
     "output_type": "display_data"
    }
   ],
   "source": [
    "@interact\n",
    "def display_form():\n",
    "    print(\"Please fill out the following form to assess your likelihood of developing Cardiovascular Disease. Please keep in mind that the prediction results may not be entirely accurate, and it's advisable to consult with medical professionals for a more comprehensive evaluation. The Machine Learning model may take some time to predict your likelihood for Cardiovascular Disease.\")\n",
    "\n",
    "style = {'description_width': 'initial'}\n",
    "output_widget = widgets.Output()\n",
    "\n",
    "def assess_form(birth_date, height, weight, Gender, systolic, diastolic, Cholesterol, Glucose, Smoking, Alcohol, Physical):\n",
    "    print(f\"Selected birthday: {birth_date}\")\n",
    "    print(f\"Selected height: {height} centimeters\")\n",
    "    print(f\"Selected weight: {weight} kilograms\")\n",
    "    print(f\"Selected Gender: {Gender}\")\n",
    "    print(f\"Blood Pressure: {systolic} / {diastolic}\")\n",
    "    print(f\"Selected Cholesterol: {Cholesterol}\")\n",
    "    print(f\"Selected Glucose: {Glucose}\")\n",
    "    print(f\"Selected Smoking: {Smoking}\")\n",
    "    print(f\"Selected Alcohol: {Alcohol}\")\n",
    "    print(f\"Selected Physical: {Physical}\")\n",
    "\n",
    "birth_date_widget = widgets.DatePicker(description='Birthday', style=style)\n",
    "height_widget = widgets.IntSlider(value=136, min=0, max=272, description='Height in Centimeters', style=style)\n",
    "weight_widget = widgets.FloatSlider(value=60, min=2, max=635, step=0.1, description='Weight in Kilograms', readout_format='.1f', style=style)\n",
    "gender_widget = widgets.Dropdown(options=[('Select', -1), ('Man', 1), ('Woman', 2)], style=style)\n",
    "systolic_widget = widgets.IntText(value=0, description='Systolic')\n",
    "diastolic_widget = widgets.IntText(value=0, description='Diastolic')\n",
    "cholesterol_widget = widgets.Dropdown(options=[('Select', -1), ('Normal', 1), ('Above Normal', 2), ('Well Above Normal', 3)], style=style)\n",
    "glucose_widget = widgets.Dropdown(options=[('Select', -1), ('Normal', 1), ('Above Normal', 2), ('Well Above Normal', 3)], style=style)\n",
    "smoking_widget = widgets.Dropdown(options=[('Select', -1), ('I have smoked', 1), ('I have never smoked', 0)], style=style)\n",
    "alcohol_widget = widgets.Dropdown(options=[('Select', -1), ('I consume alcohol', 1), ('I do not consume alcohol', 0)], style=style)\n",
    "physical_widget = widgets.Dropdown(options=[('Select', -1), ('I engage in regular physical activity', 1), ('I do not engage in regular physical activity', 0)], style=style)\n",
    "submit_button = widgets.Button(description='Submit', style=style)\n",
    "\n",
    "def on_submit_button_clicked(button):\n",
    "    with output_widget:\n",
    "        clear_output(wait = True)\n",
    "        #all form fields should be filled\n",
    "        if (not birth_date_widget.value or not height_widget.value or not weight_widget.value or gender_widget.value == -1 or cholesterol_widget.value == -1 or glucose_widget.value==-1 or smoking_widget.value == -1 or alcohol_widget.value == -1 or physical_widget.value ==-1 or systolic_widget.value <= 0 or diastolic_widget.value <= 0):\n",
    "            print(\"Please fill out all fields with a valid input for the best results.\")\n",
    "            return\n",
    "\n",
    "        #convert age input to age to number of years\n",
    "        input_date = birth_date_widget.value\n",
    "        input_date = str(input_date)\n",
    "        input_date = datetime.strptime(input_date, \"%Y-%m-%d\")\n",
    "        today = datetime.today()\n",
    "\n",
    "        age = (today - input_date).days/365\n",
    "        height = height_widget.value\n",
    "        weight = weight_widget.value\n",
    "        gender = gender_widget.value\n",
    "        ap_hi = systolic_widget.value\n",
    "        ap_lo = diastolic_widget.value\n",
    "        cholesterol = cholesterol_widget.value\n",
    "        gluc = glucose_widget.value\n",
    "        smoke = smoking_widget.value\n",
    "        alco  = alcohol_widget.value\n",
    "        active = physical_widget.value\n",
    "        bmi = weight/((height/100)**2)\n",
    "        \n",
    "        new_data = {\n",
    "            'age': [age],\n",
    "            'height': [height],\n",
    "            'weight': [weight],\n",
    "            'ap_hi': [ap_hi],\n",
    "            'ap_lo': [ap_lo],\n",
    "            'bmi': [bmi],\n",
    "            'gender': [gender],\n",
    "            'cholesterol': [cholesterol],\n",
    "            'gluc': [gluc],\n",
    "            'smoke': [smoke],\n",
    "            'alco': [alco],\n",
    "            'active': [active]\n",
    "        }\n",
    "\n",
    "        X_new = pd.DataFrame(new_data)\n",
    "\n",
    "        # #predict the value\n",
    "        prediction = pl_nn.predict(X_new)\n",
    "        if prediction[0] == 1:\n",
    "            print(\"Based on the provided statistics, there is an indication of a potential risk of Cardiovascular Disease.\")\n",
    "        else:\n",
    "            print(\"Based on the provided statistics, there doesn't seem to be an indication of a potential risk of Cardiovascular Disease.\")\n",
    "        print(\"It's essential to remember that this prediction is not entirely accurate. For a precise assessment, we recommend consulting with a medical professional.\")\n",
    "\n",
    "\n",
    "submit_button.on_click(on_submit_button_clicked)\n",
    "\n",
    "interact(assess_form,\n",
    "         birth_date=birth_date_widget,\n",
    "         height=height_widget,\n",
    "         weight=weight_widget,\n",
    "         Gender=gender_widget,\n",
    "         systolic=systolic_widget,\n",
    "         diastolic=diastolic_widget,\n",
    "         Cholesterol=cholesterol_widget,\n",
    "         Glucose=glucose_widget,\n",
    "         Smoking=smoking_widget,\n",
    "         Alcohol=alcohol_widget,\n",
    "         Physical=physical_widget)\n",
    "\n",
    "display(submit_button)\n",
    "display(output_widget)"
   ]
  },
  {
   "cell_type": "code",
   "execution_count": null,
   "metadata": {},
   "outputs": [],
   "source": []
  }
 ],
 "metadata": {
  "kernelspec": {
   "display_name": "Python 3.10.11 ('base')",
   "language": "python",
   "name": "python3"
  },
  "language_info": {
   "codemirror_mode": {
    "name": "ipython",
    "version": 3
   },
   "file_extension": ".py",
   "mimetype": "text/x-python",
   "name": "python",
   "nbconvert_exporter": "python",
   "pygments_lexer": "ipython3",
   "version": "3.10.11"
  },
  "orig_nbformat": 4,
  "vscode": {
   "interpreter": {
    "hash": "e4d657b0668fe9fec275e73d4344937bbeef50d4e93d7bdb850af1accd3b6773"
   }
  }
 },
 "nbformat": 4,
 "nbformat_minor": 2
}
