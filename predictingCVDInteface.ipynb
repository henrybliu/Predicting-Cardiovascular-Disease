{
 "cells": [
  {
   "cell_type": "markdown",
   "metadata": {},
   "source": [
    "# Predicting Cardiovascular Disease Interface"
   ]
  },
  {
   "cell_type": "markdown",
   "metadata": {},
   "source": [
    "\n",
    "This is the user interface designed to predict the probability of cardiovascular disease based on various characteristics provided by the user, including:\n",
    "- Age\n",
    "- Height\n",
    "- Weight\n",
    "- Gender\n",
    "- Systolic blood pressure\n",
    "- Diastolic blood pressure\n",
    "- Cholesterol levels\n",
    "- Glucose levels\n",
    "- Smoking status\n",
    "- Alcohol intake\n",
    "- Physical activity\n",
    "  \n",
    "The input for each characteristic is analyzed using an artificial neural network. The neural network is trained on a dataset available at https://www.kaggle.com/datasets/sulianova/cardiovascular-disease-dataset, achieving an accuracy of approximately 72%. It's important to note that this prediction is not a substitute for a comprehensive diagnosis by medical professionals, as it has limitations. For an accurate diagnosis of cardiovascular disease, please consult healthcare experts.\n"
   ]
  },
  {
   "cell_type": "markdown",
   "metadata": {},
   "source": [
    "1. import the dataset - done\n",
    "2. perform cleaning - done\n",
    "3. create ANN model\n",
    "4. prompt the user for input\n",
    "5. check validity of input\n",
    "6. show results of the user input"
   ]
  },
  {
   "cell_type": "markdown",
   "metadata": {},
   "source": []
  },
  {
   "cell_type": "code",
   "execution_count": 1,
   "metadata": {},
   "outputs": [],
   "source": [
    "import pandas as pd\n",
    "import ipywidgets as widgets\n",
    "\n",
    "from sklearn.preprocessing import OneHotEncoder\n",
    "from sklearn.preprocessing import StandardScaler\n",
    "from sklearn.model_selection import GridSearchCV\n",
    "from sklearn.pipeline import Pipeline\n",
    "from sklearn.compose import ColumnTransformer\n",
    "from sklearn.model_selection import train_test_split\n",
    "from sklearn.neural_network import MLPClassifier\n",
    "from sklearn import metrics\n",
    "#need to take this out\n",
    "from sklearn.metrics import precision_score, recall_score, f1_score, accuracy_score, ConfusionMatrixDisplay\n",
    "\n",
    "from IPython.core.display import HTML\n",
    "from IPython import display\n",
    "from IPython.display import Javascript, display\n",
    "from ipywidgets import HBox, Label, interact, IntText"
   ]
  },
  {
   "cell_type": "code",
   "execution_count": 2,
   "metadata": {},
   "outputs": [
    {
     "data": {
      "text/html": [
       "<div>\n",
       "<style scoped>\n",
       "    .dataframe tbody tr th:only-of-type {\n",
       "        vertical-align: middle;\n",
       "    }\n",
       "\n",
       "    .dataframe tbody tr th {\n",
       "        vertical-align: top;\n",
       "    }\n",
       "\n",
       "    .dataframe thead th {\n",
       "        text-align: right;\n",
       "    }\n",
       "</style>\n",
       "<table border=\"1\" class=\"dataframe\">\n",
       "  <thead>\n",
       "    <tr style=\"text-align: right;\">\n",
       "      <th></th>\n",
       "      <th>id</th>\n",
       "      <th>age</th>\n",
       "      <th>gender</th>\n",
       "      <th>height</th>\n",
       "      <th>weight</th>\n",
       "      <th>ap_hi</th>\n",
       "      <th>ap_lo</th>\n",
       "      <th>cholesterol</th>\n",
       "      <th>gluc</th>\n",
       "      <th>smoke</th>\n",
       "      <th>alco</th>\n",
       "      <th>active</th>\n",
       "      <th>cardio</th>\n",
       "    </tr>\n",
       "  </thead>\n",
       "  <tbody>\n",
       "    <tr>\n",
       "      <th>0</th>\n",
       "      <td>0</td>\n",
       "      <td>18393</td>\n",
       "      <td>2</td>\n",
       "      <td>168</td>\n",
       "      <td>62.0</td>\n",
       "      <td>110</td>\n",
       "      <td>80</td>\n",
       "      <td>1</td>\n",
       "      <td>1</td>\n",
       "      <td>0</td>\n",
       "      <td>0</td>\n",
       "      <td>1</td>\n",
       "      <td>0</td>\n",
       "    </tr>\n",
       "    <tr>\n",
       "      <th>1</th>\n",
       "      <td>1</td>\n",
       "      <td>20228</td>\n",
       "      <td>1</td>\n",
       "      <td>156</td>\n",
       "      <td>85.0</td>\n",
       "      <td>140</td>\n",
       "      <td>90</td>\n",
       "      <td>3</td>\n",
       "      <td>1</td>\n",
       "      <td>0</td>\n",
       "      <td>0</td>\n",
       "      <td>1</td>\n",
       "      <td>1</td>\n",
       "    </tr>\n",
       "    <tr>\n",
       "      <th>2</th>\n",
       "      <td>2</td>\n",
       "      <td>18857</td>\n",
       "      <td>1</td>\n",
       "      <td>165</td>\n",
       "      <td>64.0</td>\n",
       "      <td>130</td>\n",
       "      <td>70</td>\n",
       "      <td>3</td>\n",
       "      <td>1</td>\n",
       "      <td>0</td>\n",
       "      <td>0</td>\n",
       "      <td>0</td>\n",
       "      <td>1</td>\n",
       "    </tr>\n",
       "    <tr>\n",
       "      <th>3</th>\n",
       "      <td>3</td>\n",
       "      <td>17623</td>\n",
       "      <td>2</td>\n",
       "      <td>169</td>\n",
       "      <td>82.0</td>\n",
       "      <td>150</td>\n",
       "      <td>100</td>\n",
       "      <td>1</td>\n",
       "      <td>1</td>\n",
       "      <td>0</td>\n",
       "      <td>0</td>\n",
       "      <td>1</td>\n",
       "      <td>1</td>\n",
       "    </tr>\n",
       "    <tr>\n",
       "      <th>4</th>\n",
       "      <td>4</td>\n",
       "      <td>17474</td>\n",
       "      <td>1</td>\n",
       "      <td>156</td>\n",
       "      <td>56.0</td>\n",
       "      <td>100</td>\n",
       "      <td>60</td>\n",
       "      <td>1</td>\n",
       "      <td>1</td>\n",
       "      <td>0</td>\n",
       "      <td>0</td>\n",
       "      <td>0</td>\n",
       "      <td>0</td>\n",
       "    </tr>\n",
       "  </tbody>\n",
       "</table>\n",
       "</div>"
      ],
      "text/plain": [
       "   id    age  gender  height  weight  ap_hi  ap_lo  cholesterol  gluc  smoke  \\\n",
       "0   0  18393       2     168    62.0    110     80            1     1      0   \n",
       "1   1  20228       1     156    85.0    140     90            3     1      0   \n",
       "2   2  18857       1     165    64.0    130     70            3     1      0   \n",
       "3   3  17623       2     169    82.0    150    100            1     1      0   \n",
       "4   4  17474       1     156    56.0    100     60            1     1      0   \n",
       "\n",
       "   alco  active  cardio  \n",
       "0     0       1       0  \n",
       "1     0       1       1  \n",
       "2     0       0       1  \n",
       "3     0       1       1  \n",
       "4     0       0       0  "
      ]
     },
     "execution_count": 2,
     "metadata": {},
     "output_type": "execute_result"
    }
   ],
   "source": [
    "cardio = pd.read_csv('./cardio_train.csv', sep=';')\n",
    "cardio.head()\n",
    "\n",
    "# # Converting data from days to years\n",
    "# cardio['age'] = cardio['age'] / 365\n",
    "    \n",
    "# # Filtering out improbable data\n",
    "# cardio = cardio[(cardio['ap_hi'] > 0 & (cardio['ap_lo'] > 0))]\n",
    "# cardio = cardio[(cardio['age'] >= cardio['age'].quantile(0.05)) & (cardio['age'] <= cardio['age'].quantile(0.95)) &\n",
    "#                  (cardio['height'] >= cardio['height'].quantile(0.05)) & (cardio['height'] <= cardio['height'].quantile(0.95))]\n",
    "\n",
    "# # Calculate BMI (Body Mass Index)\n",
    "# cardio['bmi'] = cardio['weight'] / ((cardio['height'] / 100) ** 2)\n",
    "\n",
    "# # Filter out outliers in BMI\n",
    "# cardio_filtered = cardio[(cardio['bmi'] >= cardio['bmi'].quantile(0.05)) & (cardio['bmi'] <= cardio['bmi'].quantile(0.95))]\n",
    "# cardio['bmi'] = cardio_filtered['bmi']\n",
    "# cardio = cardio.dropna()\n",
    "# cols = list(cardio.columns)\n",
    "# cols.remove('bmi')\n",
    "# cols.insert(-1, 'bmi')\n",
    "# cardio = cardio[cols]\n",
    "\n",
    "# # Transforming columns\n",
    "# numeric_cols = ['age', 'height', 'weight', 'ap_hi', 'ap_lo', 'bmi']\n",
    "# cat_cols = ['gender', 'cholesterol', 'gluc', 'smoke', 'alco', 'active']\n",
    "# preproc = ColumnTransformer(\n",
    "#     transformers = [\n",
    "#         ('standard_scaler', StandardScaler(), numeric_cols),\n",
    "#         ('categorical_cols', OneHotEncoder(handle_unknown='ignore'), cat_cols)\n",
    "#     ]\n",
    "# )\n",
    "\n",
    "# # Getting feature and response columns\n",
    "# dataset = cardio[numeric_cols + cat_cols]\n",
    "# result = cardio['cardio']\n",
    "\n",
    "# # Splitting the data into training and testing sets\n",
    "# X_train, X_test, y_train, y_test = train_test_split(dataset,\n",
    "#                                                    result,\n",
    "#                                                    test_size=0.2,\n",
    "#                                                    random_state=1)\n",
    "\n",
    "# # Artificial Neural Network\n",
    "# pl_nn = Pipeline([\n",
    "#     ('preprocessor', preproc),\n",
    "#     ('nn', MLPClassifier()),\n",
    "# ])\n",
    "# pl_nn.fit(X_train, y_train)\n",
    "\n",
    "# # Getting the accuracy of the training and testing set\n",
    "# # training_prediction_nn = pl_nn.predict(X_train)\n",
    "# # testing_prediction_nn = pl_nn.predict(X_test)\n",
    "# # training_accuracy_nn = metrics.accuracy_score(training_prediction_nn, y_train)\n",
    "# # testing_accuracy_nn = metrics.accuracy_score(testing_prediction_nn, y_test)\n",
    "# # print(f'Training accuracy: {training_accuracy_nn}')\n",
    "# # print(f'Testing accuracy: {testing_accuracy_nn}')"
   ]
  },
  {
   "cell_type": "code",
   "execution_count": 3,
   "metadata": {},
   "outputs": [
    {
     "data": {
      "application/vnd.jupyter.widget-view+json": {
       "model_id": "850a1b93e120498f8b010c589145eee1",
       "version_major": 2,
       "version_minor": 0
      },
      "text/plain": [
       "interactive(children=(Output(),), _dom_classes=('widget-interact',))"
      ]
     },
     "metadata": {},
     "output_type": "display_data"
    },
    {
     "data": {
      "application/vnd.jupyter.widget-view+json": {
       "model_id": "be19afc9eec84cf3a5bc28c90d9e0e4a",
       "version_major": 2,
       "version_minor": 0
      },
      "text/plain": [
       "interactive(children=(DatePicker(value=None, description='Birthday', step=1, style=DescriptionStyle(descriptio…"
      ]
     },
     "metadata": {},
     "output_type": "display_data"
    },
    {
     "data": {
      "application/vnd.jupyter.widget-view+json": {
       "model_id": "eef6139db2f34ff4b524ddcf4adccd0b",
       "version_major": 2,
       "version_minor": 0
      },
      "text/plain": [
       "interactive(children=(IntSlider(value=136, description='Height in Centimeters', max=272, style=SliderStyle(des…"
      ]
     },
     "metadata": {},
     "output_type": "display_data"
    },
    {
     "data": {
      "application/vnd.jupyter.widget-view+json": {
       "model_id": "378b66d48ba744f983ca8701249b64a6",
       "version_major": 2,
       "version_minor": 0
      },
      "text/plain": [
       "interactive(children=(FloatSlider(value=60.0, description='Weight in Kilograms', max=635.0, min=2.0, readout_f…"
      ]
     },
     "metadata": {},
     "output_type": "display_data"
    },
    {
     "data": {
      "application/vnd.jupyter.widget-view+json": {
       "model_id": "cd3bdad30cef4dc086c13772fbc07847",
       "version_major": 2,
       "version_minor": 0
      },
      "text/plain": [
       "interactive(children=(Dropdown(description='Gender', options=(('Select', ''), ('Man', 'Man'), ('Woman', 'Woman…"
      ]
     },
     "metadata": {},
     "output_type": "display_data"
    },
    {
     "data": {
      "application/vnd.jupyter.widget-view+json": {
       "model_id": "42c772d704834fa9aa8a96b69482cb47",
       "version_major": 2,
       "version_minor": 0
      },
      "text/plain": [
       "interactive(children=(IntText(value=0, description='Systolic'), IntText(value=0, description='Diastolic'), Out…"
      ]
     },
     "metadata": {},
     "output_type": "display_data"
    },
    {
     "data": {
      "application/vnd.jupyter.widget-view+json": {
       "model_id": "69335111126347f697572b9b98f345d0",
       "version_major": 2,
       "version_minor": 0
      },
      "text/plain": [
       "interactive(children=(Dropdown(description='Cholesterol', options=(('Select', ''), ('Normal', 'Normal'), ('Abo…"
      ]
     },
     "metadata": {},
     "output_type": "display_data"
    },
    {
     "data": {
      "application/vnd.jupyter.widget-view+json": {
       "model_id": "dde7e3a7a4284cd69c6391bac36ddfba",
       "version_major": 2,
       "version_minor": 0
      },
      "text/plain": [
       "interactive(children=(Dropdown(description='Glucose', options=(('Select', ''), ('Normal', 'Normal'), ('Above N…"
      ]
     },
     "metadata": {},
     "output_type": "display_data"
    },
    {
     "data": {
      "application/vnd.jupyter.widget-view+json": {
       "model_id": "51aa3acc1387469b9922748702fe10fa",
       "version_major": 2,
       "version_minor": 0
      },
      "text/plain": [
       "interactive(children=(Dropdown(description='Smoking', options=(('Select', ''), ('I have smoked', 'I have smoke…"
      ]
     },
     "metadata": {},
     "output_type": "display_data"
    },
    {
     "data": {
      "application/vnd.jupyter.widget-view+json": {
       "model_id": "d5d0b415be124d5cafa5dc7ea7f2455c",
       "version_major": 2,
       "version_minor": 0
      },
      "text/plain": [
       "interactive(children=(Dropdown(description='Alcohol', options=(('Select', ''), ('I consume alcohol', 'I consum…"
      ]
     },
     "metadata": {},
     "output_type": "display_data"
    },
    {
     "data": {
      "application/vnd.jupyter.widget-view+json": {
       "model_id": "68b3500ebf024d6ba8db3dee8c8196f9",
       "version_major": 2,
       "version_minor": 0
      },
      "text/plain": [
       "interactive(children=(Dropdown(description='Physical', options=(('Select', ''), ('I engage in regular physical…"
      ]
     },
     "metadata": {},
     "output_type": "display_data"
    }
   ],
   "source": [
    "# style = {'description_width': 'initial'}\n",
    "\n",
    "# @interact\n",
    "# def display_form():\n",
    "#     print(\"Please fill out the following form to assess your likelihood of developing Cardiovascular Disease. It is important to note that the results of this prediction are not entirely accurate, and it is highly recommended to consult with medical professionals for a more comprehensive evaluation.\")\n",
    "\n",
    "# @interact(birth_date=widgets.DatePicker(description='Birthday', style = style))\n",
    "# def assess_birthday(birth_date):\n",
    "#     print(f\"Selected birthday: {birth_date}\")\n",
    "\n",
    "# @interact(height=widgets.IntSlider(value=136, min=0, max=272, description='Height in Centimeters', style = style))\n",
    "# def assess_height(height):\n",
    "#     print(f\"Selected height: {height} centimeters\")\n",
    "\n",
    "# @interact(weight=widgets.FloatSlider(value=60, min=2, max=635, step=0.1, description='Weight in Kilograms', readout_format='.1f', style=style))\n",
    "# def assess_weight(weight):\n",
    "#     print(f\"Selected weight: {weight} kilograms\")\n",
    "\n",
    "# @interact(Gender=widgets.Dropdown(options=[('Select', ''), ('Man', 'Man'), ('Woman', 'Woman')], style=style))\n",
    "# def assess_Gender(Gender):\n",
    "#     print(f\"Selected Gender: {Gender}\")\n",
    "\n",
    "# def display_blood_pressure(systolic, diastolic):\n",
    "#     print(f\"Blood Pressure: {systolic} / {diastolic}\")\n",
    "# systolic = IntText(value=0, description='Systolic')\n",
    "# diastolic = IntText(value=0, description='Diastolic')\n",
    "# interact(display_blood_pressure, systolic=systolic, diastolic=diastolic)\n",
    "\n",
    "# @interact(Cholesterol=widgets.Dropdown(options=[('Select', ''), ('Normal', 'Normal'), ('Above Normal', 'Above Normal'), ('Well Above Normal', 'Well Above Normal')], style = style))\n",
    "# def assess_cholesterol(Cholesterol):\n",
    "#     print(f\"Selected Cholesterol: {Cholesterol}\")\n",
    "\n",
    "# @interact(Glucose=widgets.Dropdown(options=[('Select', ''), ('Normal', 'Normal'), ('Above Normal', 'Above Normal'), ('Well Above Normal', 'Well Above Normal')], style = style))\n",
    "# def assess_Glucose(Glucose):\n",
    "#     print(f\"Selected Glucose: {Glucose}\")\n",
    "\n",
    "# @interact(Smoking=widgets.Dropdown(options=[('Select', ''), ('I have smoked', 'I have smoked'), ('I have never smoked', 'I have never smoked')], style = style))\n",
    "# def assess_Smoking(Smoking):\n",
    "#     print(f\"Selected Smoking: {Smoking}\")\n",
    "\n",
    "# @interact(Alcohol=widgets.Dropdown(options=[('Select', ''), ('I consume alcohol', 'I consume alcohol'), ('I do not consume alcohol', 'I do not consume alcohol')], style = style))\n",
    "# def assess_Alcohol(Alcohol):\n",
    "#     print(f\"Selected Alcohol: {Alcohol}\")\n",
    "\n",
    "# @interact(Physical=widgets.Dropdown(options=[('Select', ''), ('I engage in regular physical activity', 'I engage in regular physical activity'), ('I do not engage in regular physical activity', 'I do not engage in regular physical activity')], style = style))\n",
    "# def assess_Physical(Physical):\n",
    "#     print(f\"Selected Physical: {Physical}\")\n"
   ]
  },
  {
   "cell_type": "code",
   "execution_count": 7,
   "metadata": {},
   "outputs": [
    {
     "data": {
      "application/vnd.jupyter.widget-view+json": {
       "model_id": "bd779559652c408ba32d24e2b0c25a04",
       "version_major": 2,
       "version_minor": 0
      },
      "text/plain": [
       "interactive(children=(Output(),), _dom_classes=('widget-interact',))"
      ]
     },
     "metadata": {},
     "output_type": "display_data"
    },
    {
     "data": {
      "application/vnd.jupyter.widget-view+json": {
       "model_id": "835a2441cc6047bebc222a39d027ee20",
       "version_major": 2,
       "version_minor": 0
      },
      "text/plain": [
       "interactive(children=(DatePicker(value=None, description='Birthday', step=1, style=DescriptionStyle(descriptio…"
      ]
     },
     "metadata": {},
     "output_type": "display_data"
    },
    {
     "data": {
      "application/vnd.jupyter.widget-view+json": {
       "model_id": "187f7d1111a44aa6b1ba8ee2c0393f36",
       "version_major": 2,
       "version_minor": 0
      },
      "text/plain": [
       "Button(description='Submit', style=ButtonStyle())"
      ]
     },
     "metadata": {},
     "output_type": "display_data"
    },
    {
     "name": "stdout",
     "output_type": "stream",
     "text": [
      "Selected birthday: None\n",
      "Selected height: 136 centimeters\n",
      "Selected weight: 60.0 kilograms\n",
      "Selected Gender: \n",
      "Blood Pressure: 0 / 0\n",
      "Selected Cholesterol: \n",
      "Selected Glucose: \n",
      "Selected Smoking: \n",
      "Selected Alcohol: \n",
      "Selected Physical: \n"
     ]
    }
   ],
   "source": [
    "@interact\n",
    "def display_form():\n",
    "    print(\"Please fill out the following form to assess your likelihood of developing Cardiovascular Disease. It is important to note that the results of this prediction are not entirely accurate, and it is highly recommended to consult with medical professionals for a more comprehensive evaluation.\")\n",
    "\n",
    "style = {'description_width': 'initial'}\n",
    "\n",
    "def assess_form(birth_date, height, weight, Gender, systolic, diastolic, Cholesterol, Glucose, Smoking, Alcohol, Physical):\n",
    "    print(f\"Selected birthday: {birth_date}\")\n",
    "    print(f\"Selected height: {height} centimeters\")\n",
    "    print(f\"Selected weight: {weight} kilograms\")\n",
    "    print(f\"Selected Gender: {Gender}\")\n",
    "    print(f\"Blood Pressure: {systolic} / {diastolic}\")\n",
    "    print(f\"Selected Cholesterol: {Cholesterol}\")\n",
    "    print(f\"Selected Glucose: {Glucose}\")\n",
    "    print(f\"Selected Smoking: {Smoking}\")\n",
    "    print(f\"Selected Alcohol: {Alcohol}\")\n",
    "    print(f\"Selected Physical: {Physical}\")\n",
    "\n",
    "birth_date_widget = widgets.DatePicker(description='Birthday', style=style)\n",
    "height_widget = widgets.IntSlider(value=136, min=0, max=272, description='Height in Centimeters', style=style)\n",
    "weight_widget = widgets.FloatSlider(value=60, min=2, max=635, step=0.1, description='Weight in Kilograms', readout_format='.1f', style=style)\n",
    "Gender_widget = widgets.Dropdown(options=[('Select', ''), ('Man', 'Man'), ('Woman', 'Woman')], style=style)\n",
    "systolic_widget = widgets.IntText(value=0, description='Systolic')\n",
    "diastolic_widget = widgets.IntText(value=0, description='Diastolic')\n",
    "Cholesterol_widget = widgets.Dropdown(options=[('Select', ''), ('Normal', 'Normal'), ('Above Normal', 'Above Normal'), ('Well Above Normal', 'Well Above Normal')], style=style)\n",
    "Glucose_widget = widgets.Dropdown(options=[('Select', ''), ('Normal', 'Normal'), ('Above Normal', 'Above Normal'), ('Well Above Normal', 'Well Above Normal')], style=style)\n",
    "Smoking_widget = widgets.Dropdown(options=[('Select', ''), ('I have smoked', 'I have smoked'), ('I have never smoked', 'I have never smoked')], style=style)\n",
    "Alcohol_widget = widgets.Dropdown(options=[('Select', ''), ('I consume alcohol', 'I consume alcohol'), ('I do not consume alcohol', 'I do not consume alcohol')], style=style)\n",
    "Physical_widget = widgets.Dropdown(options=[('Select', ''), ('I engage in regular physical activity', 'I engage in regular physical activity'), ('I do not engage in regular physical activity', 'I do not engage in regular physical activity')], style=style)\n",
    "submit_button = widgets.Button(description='Submit', style=style)\n",
    "\n",
    "def on_submit_button_clicked(button):\n",
    "    assess_form(\n",
    "        birth_date_widget.value, height_widget.value, weight_widget.value, Gender_widget.value,\n",
    "        systolic_widget.value, diastolic_widget.value, Cholesterol_widget.value,\n",
    "        Glucose_widget.value, Smoking_widget.value, Alcohol_widget.value, Physical_widget.value\n",
    "    )\n",
    "\n",
    "submit_button.on_click(on_submit_button_clicked)\n",
    "\n",
    "interact(assess_form,\n",
    "         birth_date=birth_date_widget,\n",
    "         height=height_widget,\n",
    "         weight=weight_widget,\n",
    "         Gender=Gender_widget,\n",
    "         systolic=systolic_widget,\n",
    "         diastolic=diastolic_widget,\n",
    "         Cholesterol=Cholesterol_widget,\n",
    "         Glucose=Glucose_widget,\n",
    "         Smoking=Smoking_widget,\n",
    "         Alcohol=Alcohol_widget,\n",
    "         Physical=Physical_widget)\n",
    "\n",
    "display(submit_button)\n"
   ]
  },
  {
   "cell_type": "code",
   "execution_count": null,
   "metadata": {},
   "outputs": [],
   "source": []
  }
 ],
 "metadata": {
  "kernelspec": {
   "display_name": "Python 3.10.11 ('base')",
   "language": "python",
   "name": "python3"
  },
  "language_info": {
   "codemirror_mode": {
    "name": "ipython",
    "version": 3
   },
   "file_extension": ".py",
   "mimetype": "text/x-python",
   "name": "python",
   "nbconvert_exporter": "python",
   "pygments_lexer": "ipython3",
   "version": "3.10.11"
  },
  "orig_nbformat": 4,
  "vscode": {
   "interpreter": {
    "hash": "e4d657b0668fe9fec275e73d4344937bbeef50d4e93d7bdb850af1accd3b6773"
   }
  }
 },
 "nbformat": 4,
 "nbformat_minor": 2
}
